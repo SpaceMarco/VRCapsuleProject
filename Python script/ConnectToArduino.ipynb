{
 "cells": [
  {
   "cell_type": "code",
   "execution_count": 1,
   "metadata": {},
   "outputs": [],
   "source": [
    "import zmq\n",
    "import pyfirmata\n",
    "import time\n",
    "import random\n",
    "try:\n",
    "    import serial\n",
    "except:\n",
    "    %pip install serial"
   ]
  },
  {
   "cell_type": "code",
   "execution_count": 2,
   "metadata": {},
   "outputs": [
    {
     "name": "stdout",
     "output_type": "stream",
     "text": [
      "Socket bound!\n"
     ]
    }
   ],
   "source": [
    "context = zmq.Context()\n",
    "socket = context.socket(zmq.REP)\n",
    "socket.bind(\"tcp://*:12345\")\n",
    "print(\"Socket bound!\")"
   ]
  },
  {
   "cell_type": "code",
   "execution_count": 3,
   "metadata": {},
   "outputs": [],
   "source": [
    "port = 'COM3'\n",
    "baudrate=9600\n",
    "\n",
    "def StartArduino():\n",
    "    try:\n",
    "        arduino= serial.Serial(port,baudrate)\n",
    "        print (\"Port is opened\")\n",
    "    except:\n",
    "        serial.Serial(port,baudrate).close()\n",
    "        print(\"Port is closed\")    \n",
    "        arduino= serial.Serial(port,baudrate)\n",
    "        print (\"Port is opened again\")\n",
    "    time.sleep(2)\n",
    "\n",
    "    return arduino\n",
    "\n",
    "def VibrateMotors(arduino):\n",
    "    data = arduino.write(bytearray(\"1\",'ascii'))\n",
    "    return data"
   ]
  },
  {
   "cell_type": "code",
   "execution_count": 4,
   "metadata": {},
   "outputs": [],
   "source": [
    "arduino = StartArduino()\n",
    "\n",
    "\n",
    "# --- Testing the motor:\n",
    "\n",
    "# VibrateMotors(arduino)\n",
    "# time.sleep(1)\n",
    "# VibrateMotors(arduino)\n",
    "# time.sleep(1)\n",
    "# VibrateMotors(arduino)\n",
    "# print(str(r))"
   ]
  },
  {
   "cell_type": "code",
   "execution_count": 5,
   "metadata": {},
   "outputs": [
    {
     "name": "stdout",
     "output_type": "stream",
     "text": [
      "Waiting for message\n",
      "b'Vibrate'\n",
      "Started the vibration\n",
      "Waiting for message\n",
      "b'Vibrate'\n",
      "Started the vibration\n",
      "Waiting for message\n",
      "b'Vibrate'\n",
      "Started the vibration\n",
      "Waiting for message\n",
      "b'Vibrate'\n",
      "Started the vibration\n",
      "Waiting for message\n",
      "b'Vibrate'\n",
      "Started the vibration\n",
      "Waiting for message\n",
      "b'Vibrate'\n",
      "Started the vibration\n",
      "Waiting for message\n",
      "b'Vibrate'\n",
      "Started the vibration\n",
      "Waiting for message\n"
     ]
    }
   ],
   "source": [
    "while True:\n",
    "    print (\"Waiting for message\")\n",
    "    message = socket.recv()\n",
    "    #  do something\n",
    "    print(message)\n",
    "    #  reply to client\n",
    "    VibrateMotors(arduino)\n",
    "    # time.sleep(1)\n",
    "    message = \"Started the vibration\"\n",
    "    print(message)\n",
    "    socket.send_string(message)"
   ]
  },
  {
   "cell_type": "code",
   "execution_count": null,
   "metadata": {},
   "outputs": [],
   "source": []
  }
 ],
 "metadata": {
  "kernelspec": {
   "display_name": "Python 3",
   "language": "python",
   "name": "python3"
  },
  "language_info": {
   "codemirror_mode": {
    "name": "ipython",
    "version": 3
   },
   "file_extension": ".py",
   "mimetype": "text/x-python",
   "name": "python",
   "nbconvert_exporter": "python",
   "pygments_lexer": "ipython3",
   "version": "3.11.6"
  },
  "orig_nbformat": 4
 },
 "nbformat": 4,
 "nbformat_minor": 2
}
